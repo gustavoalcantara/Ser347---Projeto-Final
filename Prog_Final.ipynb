{
 "cells": [
  {
   "cell_type": "markdown",
   "metadata": {},
   "source": [
    "# Programa para cálculo de área do espelho d'água em reservatório e comparação entre duas datas distindas com uso de imagens Landsat-8/OLI:\n",
    "\n",
    "Para dois conjuntos de imagens das bandas do Satélite Landsat8 sensor OLI Level-2, de duas datas distintas (baixadas do https://earthexplorer.usgs.gov) o programa inicialmente separa dados de arquivos e bandas de interesse. Posteriormente, é realizado o recorte da área de interesse que contem o reservatório de estudo com uso do software QGIS devido dificuldade encontrada em recortar o arquivo por linha de código. Com as bandas recortadas, é realizado o calculo de NDWI (Normalized Difference Water Index) para extrair a máscara de água em formato raster (GeoTIFF). Por fim, é calculado a área para cada uma das datas com base na máscara. Assim, foi possivel obter a variação percentual da área do espelho d'água entre as duas datas. \n",
    "\n",
    "\n",
    "Para funcionar o programa de forma correta, o usuario deve descompactar os arquivos baixados das cenas em suas respectivas 'pastas de entrada', conforme instruido durante o programa. "
   ]
  },
  {
   "cell_type": "markdown",
   "metadata": {},
   "source": [
    "## 1) Importando pacotes de ferramentas necessárias para o programa."
   ]
  },
  {
   "cell_type": "code",
   "execution_count": 1,
   "metadata": {},
   "outputs": [],
   "source": [
    "from osgeo import gdal,gdalconst,osr\n",
    "from gdalconst import *\n",
    "import os\n",
    "import matplotlib as mpl\n",
    "import matplotlib.pyplot as plt\n",
    "import numpy as np\n",
    "import sys\n",
    "import shutil\n",
    "gdal.UseExceptions()"
   ]
  },
  {
   "cell_type": "markdown",
   "metadata": {},
   "source": [
    "## 2) Definindo funções do programa."
   ]
  },
  {
   "cell_type": "code",
   "execution_count": 2,
   "metadata": {},
   "outputs": [],
   "source": [
    "# Função que toma como argumento: 'lista' com nome de arquivos pré estabelecida pelo usuário, caminho do 'diretório' no qual se \n",
    "# encontram os arquivos da lista e caminho do 'diretório raiz' (dir_raiz) para retorno ao diretório raiz com função os.chdir()\n",
    "\n",
    "def selecao(lista, diretorio, dir_raiz):\n",
    "    os.chdir(diretorio) # Associa o caminho para a função ao diretório onde a lista de arquivos se encontra\n",
    "    \n",
    "    for x in lista:\n",
    "        if x[-3:] != 'tif':\n",
    "            os.remove(x) # Deleta os arquivos da lista cuja extensão é diferente de '.tif'\n",
    "            \n",
    "    lista_2 = os.listdir() # Define nova lista contendo apenas os nomes dos arquivos que restaram\n",
    "    \n",
    "    for x in lista_2:\n",
    "        if x[-9:-4] != 'band3' and x[-9:-4] != 'band5':\n",
    "            os.remove(x) # Deleta os arquivos da lista mantendo apenas os arquivos das bandas de interesse (bandas 3 e 5)\n",
    "            \n",
    "    lista_3 = os.listdir() # Define nova lista contendo apenas os nomes dos arquivos que restaram\n",
    "    print(lista_3)\n",
    "    \n",
    "    os.chdir(dir_raiz) #Retorna o caminho para a função ao diretório raiz do programa"
   ]
  },
  {
   "cell_type": "code",
   "execution_count": 3,
   "metadata": {},
   "outputs": [],
   "source": [
    "# Função para salvar arquivo GeoTIFF gerado por cálculo ou função estabelecida tomando como argumento: 'matriz de pixels' a qual\n",
    "# se quer escrever e salvar os dados em arquivo '.tif', 'nome do arquivo' contendo caminho do diretório seguido do nome do\n",
    "# arquivo e por fim dataset de referência, do qual serão extraidas informações espaciais, de projeção e sobre METADADOS  \n",
    "\n",
    "def salvar_banda(matriz_de_pixels, nome_do_arquivo, dataset_de_referencia):\n",
    "    linhas = dataset_de_referencia.RasterYSize\n",
    "    colunas = dataset_de_referencia.RasterXSize\n",
    "    bandas = 1 # Obetem METADADOS da imagem\n",
    "    \n",
    "    driver = gdal.GetDriverByName('GTiff') # Define DRIVE para criação de GeoTIFF\n",
    "    \n",
    "    data_type = dataset_de_referencia.GetRasterBand(1).DataType # Copia tipo de dado de banda já existente\n",
    "    \n",
    "    dataset_output = driver.Create(nome_do_arquivo, colunas, linhas, bandas, data_type) # Cria novo dataset para arquivo de saida\n",
    "    \n",
    "    dataset_output.SetGeoTransform(dataset_de_referencia.GetGeoTransform()) # Copia informação espacial da banda já existente\n",
    "    \n",
    "    dataset_output.SetProjection(dataset_de_referencia.GetProjectionRef()) # Copia informação de projeção da banda já existente\n",
    "\n",
    "    dataset_output.GetRasterBand(1).WriteArray(matriz_de_pixels) # Escreve dados de saída na forma de matriz (array) da banda\n",
    "\n",
    "    dataset_output.FlushCache() # Salva valores no arquivo de saída\n",
    "    \n",
    "    dataset_output = None # Fecha dataset de saída criado para liber a memória"
   ]
  },
  {
   "cell_type": "code",
   "execution_count": 4,
   "metadata": {},
   "outputs": [],
   "source": [
    "# Função que calcula valor de NDWI dadas bandas do espectro VERDE e IV-Próximo e gera mascara de água para a cena onde a água\n",
    "# é classificada com valor 1 e tudo que não é agua é classificado com valor 0, esta função toma como argumentos: a banda 3 (VERDE)\n",
    "# e banda 5 (IV Próximo) do sensor Landsat-8/OLI, sendo estes argumentos inseridos na forma de string com o caminho completo até\n",
    "# o arquivo, incluindo nome completo do arquivo, esta função tambpem precisa de 2 argumentos contendo o caminho com nome completo\n",
    "# do 'arquivo NDWI' e 'arquivo Mascara' onde salvar tais arquivos.\n",
    "\n",
    "def NDWI(green, nir, arquivo_ndwi, arquivo_mascara):\n",
    "    try:\n",
    "        dataset_green = gdal.Open(green, GA_ReadOnly)\n",
    "        dataset_nir = gdal.Open(nir, GA_ReadOnly)\n",
    "    except:\n",
    "        print('Erro na abertura de algum dos arquivos') \n",
    "        \n",
    "    if (dataset_green.GetProjectionRef() != dataset_nir.GetProjectionRef()):\n",
    "        print('Sistemas de referência diferentes')\n",
    "    elif (dataset_green.GetGeoTransform() != dataset_nir.GetGeoTransform()):\n",
    "        print('Metadados espaciais diferentes')\n",
    "    else:\n",
    "        linhas = dataset_green.RasterYSize\n",
    "        colunas = dataset_green.RasterXSize\n",
    "        \n",
    "        raster_green = dataset_green.GetRasterBand(1).ReadAsArray()\n",
    "        raster_nir = dataset_nir.GetRasterBand(1).ReadAsArray()\n",
    "    \n",
    "        raster_ndwi = (raster_green - raster_nir) / (raster_green + raster_nir)\n",
    "    \n",
    "        raster_mascara = raster_ndwi\n",
    "        raster_mascara[raster_mascara >= 0] = 1\n",
    "        raster_mascara[raster_mascara < 0] = 0\n",
    "                \n",
    "        plt.figure(figsize=(10, 4))\n",
    "        \n",
    "        plt.subplot(121)\n",
    "        plt.imshow(raster_ndwi)\n",
    "        plt.title('Raster NDWI')\n",
    "        \n",
    "        plt.subplot(122)\n",
    "        plt.imshow(raster_mascara)\n",
    "        plt.title('Raster Máscara de água')\n",
    "        \n",
    "        plt.show()\n",
    "        \n",
    "    salvar_banda(raster_ndwi, arquivo_ndwi, dataset_green)\n",
    "    salvar_banda(raster_mascara, arquivo_mascara, dataset_green)\n",
    "    \n",
    "    dataset_green = None\n",
    "    dataset_nir = None"
   ]
  },
  {
   "cell_type": "code",
   "execution_count": 5,
   "metadata": {},
   "outputs": [],
   "source": [
    "# Função que calcula a área da máscara de água, esta função mostra a contagem de pixels e área classificada como água, retornando\n",
    "# para atribuição de variável o valor da área\n",
    "def area_agua(mascara, pixel):\n",
    "    try:\n",
    "        dataset_mascara = gdal.Open(mascara, GA_ReadOnly)\n",
    "    except:\n",
    "        print('Erro na abertura do arquivo')\n",
    "        \n",
    "    raster_mascara = dataset_mascara.GetRasterBand(1).ReadAsArray()\n",
    "    \n",
    "    cont = np.count_nonzero(raster_mascara)\n",
    "    \n",
    "    area = cont * pixel\n",
    "    \n",
    "    print('Número de píxels:', cont)\n",
    "    print('Área da máscara [m²]:', area)\n",
    "    \n",
    "    return area"
   ]
  },
  {
   "cell_type": "code",
   "execution_count": 6,
   "metadata": {},
   "outputs": [],
   "source": [
    "# Função que calcula o percentual de variação entre dois valores atribuidos\n",
    "def percentual_var(x, y):\n",
    "    Δ = round((x-y) * 100 / x, 2)\n",
    "    print('Δ% de Área:', Δ)"
   ]
  },
  {
   "cell_type": "markdown",
   "metadata": {},
   "source": [
    "## 3) Criando caminhos para diretórios e arquivos necessários para o programa"
   ]
  },
  {
   "cell_type": "code",
   "execution_count": 7,
   "metadata": {},
   "outputs": [],
   "source": [
    "# Criando strings de chamada para os diretórios\n",
    "raiz = os.getcwd()\n",
    "dir_tif = os.path.join(raiz, 'tif')\n",
    "dir_tif_e = os.path.join(dir_tif, 'e')\n",
    "dir_tif_s = os.path.join(dir_tif, 's')\n",
    "dir_passado_e = os.path.join(dir_tif_e, 'passado')\n",
    "dir_atual_e = os.path.join(dir_tif_e, 'atual')\n",
    "dir_passado_s = os.path.join(dir_tif_s, 'passado')\n",
    "dir_atual_s = os.path.join(dir_tif_s, 'atual')\n",
    "\n",
    "# Criando strings de chamada para os arquivos\n",
    "green_passado = os.path.join(dir_passado_e, 'cut_band3.tif')\n",
    "nir_passado = os.path.join(dir_passado_e, 'cut_band5.tif')\n",
    "green_atual = os.path.join(dir_atual_e, 'cut_band3.tif')\n",
    "nir_atual = os.path.join(dir_atual_e, 'cut_band5.tif')\n",
    "ndwi_passado = os.path.join(dir_passado_s, 'ndwi_passado.tif')\n",
    "ndwi_atual = os.path.join(dir_atual_s, 'ndwi_atual.tif')\n",
    "mascara_passado = os.path.join(dir_passado_s, 'mascara_passado.tif')\n",
    "mascara_atual = os.path.join(dir_atual_s, 'mascara_atual.tif')"
   ]
  },
  {
   "cell_type": "code",
   "execution_count": 8,
   "metadata": {},
   "outputs": [],
   "source": [
    "# Criando diretórios para o programa a partir das strings de chamada\n",
    "os.makedirs(dir_tif, exist_ok=True)\n",
    "os.makedirs(dir_tif_e, exist_ok=True)\n",
    "os.makedirs(dir_tif_s, exist_ok=True)\n",
    "os.makedirs(dir_passado_e, exist_ok=True)\n",
    "os.makedirs(dir_atual_e, exist_ok=True)\n",
    "os.makedirs(dir_passado_s, exist_ok=True)\n",
    "os.makedirs(dir_atual_s, exist_ok=True)"
   ]
  },
  {
   "cell_type": "code",
   "execution_count": 9,
   "metadata": {},
   "outputs": [
    {
     "name": "stdout",
     "output_type": "stream",
     "text": [
      "\r",
      "Diretórios \n",
      "Raiz: \t\t\t C:\\Users\\Victor\\OneDrive - inpe.br\\base_dados\\inpe\\ser347_prog\\trabalho \n",
      "TIF: \t\t\t C:\\Users\\Victor\\OneDrive - inpe.br\\base_dados\\inpe\\ser347_prog\\trabalho\\tif \n",
      "TIF entrada: \t\t C:\\Users\\Victor\\OneDrive - inpe.br\\base_dados\\inpe\\ser347_prog\\trabalho\\tif\\e \n",
      "Passado entrada: \t C:\\Users\\Victor\\OneDrive - inpe.br\\base_dados\\inpe\\ser347_prog\\trabalho\\tif\\e\\passado \n",
      "Atual entrada: \t\t C:\\Users\\Victor\\OneDrive - inpe.br\\base_dados\\inpe\\ser347_prog\\trabalho\\tif\\e\\atual \n",
      "TIF saida: \t\t C:\\Users\\Victor\\OneDrive - inpe.br\\base_dados\\inpe\\ser347_prog\\trabalho\\tif\\s \n",
      "Passado saida: \t\t C:\\Users\\Victor\\OneDrive - inpe.br\\base_dados\\inpe\\ser347_prog\\trabalho\\tif\\s\\passado \n",
      "Atual saida: \t\t C:\\Users\\Victor\\OneDrive - inpe.br\\base_dados\\inpe\\ser347_prog\\trabalho\\tif\\s\\atual\n"
     ]
    }
   ],
   "source": [
    "print('\\r''Diretórios', '\\n''Raiz:', '\\t\\t\\t', raiz,\n",
    "      '\\n''TIF:', '\\t\\t\\t', dir_tif, '\\n''TIF entrada:', '\\t\\t', dir_tif_e,\n",
    "      '\\n''Passado entrada:', '\\t', dir_passado_e, '\\n''Atual entrada:', '\\t\\t', dir_atual_e,\n",
    "      '\\n''TIF saida:', '\\t\\t', dir_tif_s,\n",
    "      '\\n''Passado saida:', '\\t\\t', dir_passado_s, '\\n''Atual saida:', '\\t\\t', dir_atual_s)"
   ]
  },
  {
   "cell_type": "markdown",
   "metadata": {},
   "source": [
    "## 4)  Rodando funções criadas sobre os dados:\n",
    "### 4.1) Organizando dados"
   ]
  },
  {
   "cell_type": "markdown",
   "metadata": {},
   "source": [
    "Após criação dos diretórios do programa o usuário deve descompactar os arquivos obtidos do site EarthExplorer citado anteriormente nos diretórios 'Seca entrada' e 'Atual entrada' respectivamente."
   ]
  },
  {
   "cell_type": "code",
   "execution_count": 10,
   "metadata": {},
   "outputs": [],
   "source": [
    "# Criando lista de arquivos dentro dosdiretórios de entrada\n",
    "lista_passado_e = os.listdir(dir_passado_e)\n",
    "lista_atual_e = os.listdir(dir_atual_e)"
   ]
  },
  {
   "cell_type": "code",
   "execution_count": 11,
   "metadata": {},
   "outputs": [
    {
     "name": "stdout",
     "output_type": "stream",
     "text": [
      "['cut_band3.tif', 'cut_band5.tif', 'LC08_L1TP_219076_20150110_20170415_01_T1_sr_band3.tif', 'LC08_L1TP_219076_20150110_20170415_01_T1_sr_band5.tif']\n"
     ]
    }
   ],
   "source": [
    "# Aplicando a função 'Seleção' sobre a lista de entrada de data da seca \n",
    "selecao(lista_passado_e, dir_passado_e, raiz)"
   ]
  },
  {
   "cell_type": "code",
   "execution_count": 12,
   "metadata": {},
   "outputs": [
    {
     "name": "stdout",
     "output_type": "stream",
     "text": [
      "['cut_band3.tif', 'cut_band5.tif', 'LC08_L1TP_219076_20180510_20180517_01_T1_sr_band3.tif', 'LC08_L1TP_219076_20180510_20180517_01_T1_sr_band5.tif']\n"
     ]
    }
   ],
   "source": [
    "# Aplicando a função 'Seleção' sobre a lista de entrada de data atual\n",
    "selecao(lista_atual_e, dir_atual_e, raiz)"
   ]
  },
  {
   "cell_type": "code",
   "execution_count": 13,
   "metadata": {},
   "outputs": [],
   "source": [
    "# Criando nova lista de arquivos dentro dos diretórios de entrada\n",
    "lista_passado_e = os.listdir(dir_passado_e)\n",
    "lista_atual_e = os.listdir(dir_atual_e)"
   ]
  },
  {
   "cell_type": "code",
   "execution_count": 14,
   "metadata": {},
   "outputs": [
    {
     "data": {
      "text/plain": [
       "['cut_band3.tif',\n",
       " 'cut_band5.tif',\n",
       " 'LC08_L1TP_219076_20150110_20170415_01_T1_sr_band3.tif',\n",
       " 'LC08_L1TP_219076_20150110_20170415_01_T1_sr_band5.tif']"
      ]
     },
     "execution_count": 14,
     "metadata": {},
     "output_type": "execute_result"
    }
   ],
   "source": [
    "# Arquivos de entrada de interesse para data de seca\n",
    "lista_passado_e"
   ]
  },
  {
   "cell_type": "code",
   "execution_count": 15,
   "metadata": {},
   "outputs": [
    {
     "data": {
      "text/plain": [
       "['cut_band3.tif',\n",
       " 'cut_band5.tif',\n",
       " 'LC08_L1TP_219076_20180510_20180517_01_T1_sr_band3.tif',\n",
       " 'LC08_L1TP_219076_20180510_20180517_01_T1_sr_band5.tif']"
      ]
     },
     "execution_count": 15,
     "metadata": {},
     "output_type": "execute_result"
    }
   ],
   "source": [
    "# Arquivos de entrada de interesse para data atual\n",
    "lista_atual_e"
   ]
  },
  {
   "cell_type": "markdown",
   "metadata": {},
   "source": [
    "Com os arquivos originais para  as bandas de interesse separados é extraido da cena área de interesse (de conhecimento do usuário) para estudo com uso de software GIS da escolha do usuário, à partir dos rasters, para as duas datas, recortados e descarregados nos diretórios 'Seca entrada' e 'Atual entrada' respectivamente o programa segue com a criação dos rasters NDWI e máscara de água.\n",
    "\n",
    "Como exemplo os rasters foram recortados usando-se software QGIS com uso de cordendadas de x e  y, mínimos e máximos, conhecidos pelos autores para a área de interesse."
   ]
  },
  {
   "cell_type": "markdown",
   "metadata": {},
   "source": [
    "### 4.2) Criando rasters NDWI e máscara de água"
   ]
  },
  {
   "cell_type": "code",
   "execution_count": 16,
   "metadata": {},
   "outputs": [
    {
     "data": {
      "image/png": "[encoded data removed]",
      "text/plain": [
       "<matplotlib.figure.Figure at 0xdf8cea8898>"
      ]
     },
     "metadata": {},
     "output_type": "display_data"
    }
   ],
   "source": [
    "# Aplicando função NDWI para data de seca, onde é mostrado os dois GeoTIFF criados\n",
    "NDWI(green_passado, nir_passado, ndwi_passado, mascara_passado)"
   ]
  },
  {
   "cell_type": "code",
   "execution_count": 17,
   "metadata": {},
   "outputs": [
    {
     "data": {
      "image/png": "[encoded data removed]",
      "text/plain": [
       "<matplotlib.figure.Figure at 0xdf8e184ef0>"
      ]
     },
     "metadata": {},
     "output_type": "display_data"
    }
   ],
   "source": [
    "# Aplicando função NDWI para data atual, onde é mostrado os dois GeoTIFF criados\n",
    "NDWI(green_atual, nir_atual, ndwi_atual, mascara_atual)"
   ]
  },
  {
   "cell_type": "code",
   "execution_count": 18,
   "metadata": {},
   "outputs": [],
   "source": [
    "# Criando lista de arquivos dentro dos diretórios de saida\n",
    "lista_passado_s = os.listdir(dir_passado_s)\n",
    "lista_atual_s = os.listdir(dir_atual_s)"
   ]
  },
  {
   "cell_type": "code",
   "execution_count": 19,
   "metadata": {},
   "outputs": [
    {
     "data": {
      "text/plain": [
       "['mascara_passado.tif', 'ndwi_passado.tif', 'Thumbs.db']"
      ]
     },
     "execution_count": 19,
     "metadata": {},
     "output_type": "execute_result"
    }
   ],
   "source": [
    "# Saida de produtos gerados para a data de seca\n",
    "lista_passado_s"
   ]
  },
  {
   "cell_type": "code",
   "execution_count": 20,
   "metadata": {},
   "outputs": [
    {
     "data": {
      "text/plain": [
       "['mascara_atual.tif', 'ndwi_atual.tif', 'Thumbs.db']"
      ]
     },
     "execution_count": 20,
     "metadata": {},
     "output_type": "execute_result"
    }
   ],
   "source": [
    "# Saida de produtos gerados para a data atual\n",
    "lista_atual_s"
   ]
  },
  {
   "cell_type": "markdown",
   "metadata": {},
   "source": [
    "### 4.3) Calculando área e percentual de variação de área"
   ]
  },
  {
   "cell_type": "code",
   "execution_count": 21,
   "metadata": {},
   "outputs": [],
   "source": [
    "# Resolução espacial do pixel Landsat-8/OLI\n",
    "res_landsat8 = 30\n",
    "pixel_landsat8 = res_landsat8 ** 2"
   ]
  },
  {
   "cell_type": "code",
   "execution_count": 22,
   "metadata": {},
   "outputs": [
    {
     "name": "stdout",
     "output_type": "stream",
     "text": [
      "Número de píxels: 1918\n",
      "Área da máscara [m²]: 1726200\n"
     ]
    }
   ],
   "source": [
    "# Aplicando a função de cálculo da área da mascara de água para data de seca\n",
    "area_passado = area_agua(mascara_passado, pixel_landsat8)"
   ]
  },
  {
   "cell_type": "code",
   "execution_count": 23,
   "metadata": {},
   "outputs": [
    {
     "name": "stdout",
     "output_type": "stream",
     "text": [
      "Número de píxels: 3244\n",
      "Área da máscara [m²]: 2919600\n"
     ]
    }
   ],
   "source": [
    "# Aplicando a função de cálculo da área da mascara de água para data atual\n",
    "area_atual = area_agua(mascara_atual, pixel_landsat8)"
   ]
  },
  {
   "cell_type": "code",
   "execution_count": 24,
   "metadata": {},
   "outputs": [
    {
     "name": "stdout",
     "output_type": "stream",
     "text": [
      "Δ% de Área: 40.88\n"
     ]
    }
   ],
   "source": [
    "# Aplicando a função de calculo do percentual de variação entre data atual e data atual\n",
    "percentual_var(area_atual, area_passado)"
   ]
  }
 ],
 "metadata": {
  "kernelspec": {
   "display_name": "Python 3 (prog_ser347)",
   "language": "python",
   "name": "prog_ser347"
  },
  "language_info": {
   "codemirror_mode": {
    "name": "ipython",
    "version": 3
   },
   "file_extension": ".py",
   "mimetype": "text/x-python",
   "name": "python",
   "nbconvert_exporter": "python",
   "pygments_lexer": "ipython3",
   "version": "3.6.4"
  }
 },
 "nbformat": 4,
 "nbformat_minor": 2
}
